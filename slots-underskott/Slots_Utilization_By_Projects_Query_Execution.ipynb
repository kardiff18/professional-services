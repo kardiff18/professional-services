{
  "nbformat": 4,
  "nbformat_minor": 0,
  "metadata": {
    "colab": {
      "name": "Slots Utilization By Projects -- Query Execution",
      "version": "0.3.2",
      "views": {},
      "default_view": {},
      "provenance": [
        {
          "file_id": "1VR0sSLGj1b0JC9SFPuW0BOo5iZmDThPE",
          "timestamp": 1531603029404
        }
      ],
      "collapsed_sections": [],
      "toc_visible": true
    }
  },
  "cells": [
    {
      "metadata": {
        "id": "WgXmjTuclnwZ",
        "colab_type": "code",
        "slideshow": {
          "slide_type": "-"
        },
        "colab": {
          "autoexec": {
            "startup": false,
            "wait_interval": 0
          }
        }
      },
      "cell_type": "code",
      "source": [
        "#@title Enter project id where slots deficits tables are located { display-mode: \"form\" }\n",
        "from colabtools import interactive_forms\n",
        "project_id = \"arifs-playground\" #@param {type: \"string\"}\n",
        "\n",
        "from colabtools import bigquery\n",
        "from colabtools import dygraphs\n",
        "from datetime import datetime, timedelta\n",
        "import time\n",
        "import numpy as np\n",
        "google3.research.colab.lib.bigquery._BQ_PANDAS_TYPE_MAP = {'STRING': np.object, 'INTEGER': np.int64, 'FLOAT': np.double, 'BOOLEAN': np.bool, 'BYTES': np.object, 'DATE': np.dtype('datetime64[ns]'), 'TIMESTAMP': np.dtype('datetime64[ns]'), 'RECORD': np.object,}\n",
        "bigquery.Create(project_id=project_id)\n",
        "\n",
        "\n",
        "from colabtools import bigquery\n",
        "slots_query = \"SELECT * FROM `{0}.slots_deficits.slots_deficits_by_project`\".format(project_id)\n",
        "df = bigquery.ExecuteQuery(slots_query, 0, 1000000, use_legacy_sql=False)    \n",
        "dft_res_pending_units_secs = df.pivot(index='time_window', columns='project',values='pending_units')\n",
        "dft_res_active_units_secs = df.pivot(index='time_window', columns='project',values='active_units')\n",
        "\n",
        "slots_query_sec_mins = \"SELECT * FROM `{0}.slots_deficits.slots_deficits_by_project_minute_resolution`\".format(project_id)\n",
        "df_minutes = bigquery.ExecuteQuery(slots_query, 0, 1000000, use_legacy_sql=False) \n",
        "dft_res_pending_units_mins = df_minutes.pivot(index='time_window', columns='project',values='pending_units')\n",
        "dft_res_active_units_mins = df_minutes.pivot(index='time_window', columns='project',values='active_units')\n"
      ],
      "execution_count": 0,
      "outputs": []
    },
    {
      "metadata": {
        "id": "LKfmEGJOBNYN",
        "colab_type": "code",
        "slideshow": {
          "slide_type": "slide"
        },
        "colab": {
          "autoexec": {
            "startup": false,
            "wait_interval": 0
          }
        },
        "cellView": "form"
      },
      "cell_type": "code",
      "source": [
        "\n",
        "\n",
        "#@title Graphs  { display-mode: \"form\" }\n",
        "%%multicell\n",
        "#from colabtools import nvd3\n",
        "res_stacked_graphs = True #@param { type: \"boolean\" }\n",
        "res_log_scale = True #@param { type: \"boolean\" }\n",
        "dygraphs.Create(dft_res_pending_units_secs, title='Pending Units -- Seconds Resolution', width='800px', height='600px',stackedGraph=res_stacked_graphs, logscale=res_log_scale)\n",
        "dygraphs.Create(dft_res_active_units_secs, title='Active Units -- Seconds Resolution', width='800px', height='600px',stackedGraph=res_stacked_graphs, logscale=res_log_scale)\n",
        "\n",
        "\n",
        "dygraphs.Create(dft_res_pending_units_mins, title='Pending Units -- Minutes Resolution', width='800px', height='600px',stackedGraph=res_stacked_graphs, logscale=res_log_scale)\n",
        "dygraphs.Create(dft_res_active_units_mins, title='Active Units -- Minutes Resolution', width='800px', height='600px',stackedGraph=res_stacked_graphs, logscale=res_log_scale)\n",
        "\n",
        "%%endcell\n",
        "%\n",
        "  %%endcell"
      ],
      "execution_count": 0,
      "outputs": []
    }
  ]
}